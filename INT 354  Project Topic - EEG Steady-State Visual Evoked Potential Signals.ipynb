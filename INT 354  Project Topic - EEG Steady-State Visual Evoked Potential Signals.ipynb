{
 "cells": [
  {
   "cell_type": "markdown",
   "id": "b2b2ddd9",
   "metadata": {},
   "source": [
    "# Data Preprocessing"
   ]
  },
  {
   "cell_type": "markdown",
   "id": "8b6d89ea",
   "metadata": {},
   "source": [
    "### Steps - Acquire dataset, import libraries,  import dataset"
   ]
  },
  {
   "cell_type": "code",
   "execution_count": 256,
   "id": "2ace10cf",
   "metadata": {},
   "outputs": [],
   "source": [
    "import numpy as np\n",
    "import matplotlib.pyplot as plt\n",
    "import pandas as pd\n",
    "df=pd.read_csv('Signal Database.csv')"
   ]
  },
  {
   "cell_type": "code",
   "execution_count": 257,
   "id": "f370c117",
   "metadata": {},
   "outputs": [
    {
     "name": "stdout",
     "output_type": "stream",
     "text": [
      "                                        SUBJECT NUMBER  \\\n",
      "0                                                  NaN   \n",
      "1                                                    1   \n",
      "2                                                    1   \n",
      "3                                                    1   \n",
      "4                                                    2   \n",
      "..                                                 ...   \n",
      "138                                                 30   \n",
      "139                                                 30   \n",
      "140                                                 30   \n",
      "141                                                 30   \n",
      "142  * a non-healthy individual was non eligible to...   \n",
      "\n",
      "    SUBJECT´S GENERAL INFORMATION Unnamed: 2 Unnamed: 3     Unnamed: 4  \\\n",
      "0                           GROUP     GENDER        AGE  RIGHT HANDED?   \n",
      "1                               A       MALE         48             NO   \n",
      "2                               A       MALE         48             NO   \n",
      "3                               A       MALE         50             NO   \n",
      "4                               A       MALE         22            YES   \n",
      "..                            ...        ...        ...            ...   \n",
      "138                             A        FEM         22            YES   \n",
      "139                             A        FEM         22            YES   \n",
      "140                             A        FEM         22            YES   \n",
      "141                             A        FEM         22            YES   \n",
      "142                           NaN        NaN        NaN            NaN   \n",
      "\n",
      "    Unnamed: 5 Unnamed: 6 Unnamed: 7         Unnamed: 8  \\\n",
      "0     HEALTHY*    GLASSES     SMOKER  MEDICAL TREATMENT   \n",
      "1          YES        YES         NO                YES   \n",
      "2          YES        YES         NO                YES   \n",
      "3          YES        YES         NO                YES   \n",
      "4          YES         NO         NO                 NO   \n",
      "..         ...        ...        ...                ...   \n",
      "138        YES         NO        YES                 NO   \n",
      "139        YES         NO        YES                 NO   \n",
      "140        YES         NO        YES                 NO   \n",
      "141        YES         NO        YES                 NO   \n",
      "142        NaN        NaN        NaN                NaN   \n",
      "\n",
      "                 Unnamed: 9 TEST INFORMATION   Unnamed: 11   Unnamed: 12  \\\n",
      "0    MEDICINE / SUPPLEMENTS    TRANSFER RATE     TEST TYPE     TEST NAME   \n",
      "1                       YES              128        VISUAL  IMAGE SEARCH   \n",
      "2                       YES              128        VISUAL    FIVE BOX 1   \n",
      "3                       YES              128  MOTOR IMAGES    HAND SHAKE   \n",
      "4                        NO              128        VISUAL    FIVE BOX 1   \n",
      "..                      ...              ...           ...           ...   \n",
      "138                      NO              128        VISUAL    FIVE BOX 2   \n",
      "139                      NO              128        VISUAL    FIVE BOX 3   \n",
      "140                      NO              128  MOTOR IMAGES    HAND SHAKE   \n",
      "141                      NO              128        VISUAL  IMAGE SEARCH   \n",
      "142                     NaN              NaN           NaN           NaN   \n",
      "\n",
      "          Unnamed: 13          Unnamed: 14    Unnamed: 15  \\\n",
      "0    NUMBER OF EVENTS  EVENT DURATION (ms)   SESSION DATA   \n",
      "1                   5                  250  A001SV1_1.EDF   \n",
      "2                  20                  250  A001SB1_1.EDF   \n",
      "3                   6                 5000  A001SM1_1.EDF   \n",
      "4                  20                  250  A002SB1_1.EDF   \n",
      "..                ...                  ...            ...   \n",
      "138                20                  250  A030SB2_1.EDF   \n",
      "139                20                  250  A030SB3_1.EDF   \n",
      "140                 6                 5000  A030SM1_1.EDF   \n",
      "141                 5                  250  A030SV1_2.EDF   \n",
      "142               NaN                  NaN            NaN   \n",
      "\n",
      "               Unnamed: 16         Unnamed: 17  \n",
      "0    STEADY-STATE TIME (s)  TEST DURATION  (s)  \n",
      "1                        5                  96  \n",
      "2                        5                  71  \n",
      "3                       25                  46  \n",
      "4                        5                  67  \n",
      "..                     ...                 ...  \n",
      "138                      5                  63  \n",
      "139                      5                  60  \n",
      "140                      9                  34  \n",
      "141                      5                  72  \n",
      "142                    NaN                 NaN  \n",
      "\n",
      "[143 rows x 18 columns]\n"
     ]
    }
   ],
   "source": [
    "print(df)"
   ]
  },
  {
   "cell_type": "code",
   "execution_count": 258,
   "id": "d70f9152",
   "metadata": {},
   "outputs": [
    {
     "name": "stdout",
     "output_type": "stream",
     "text": [
      "(143, 18)\n",
      "2574\n"
     ]
    }
   ],
   "source": [
    "print(df.shape)\n",
    "print(df.size)"
   ]
  },
  {
   "cell_type": "code",
   "execution_count": 259,
   "id": "d50d6d31",
   "metadata": {},
   "outputs": [
    {
     "name": "stdout",
     "output_type": "stream",
     "text": [
      "SUBJECT NUMBER                   142\n",
      "SUBJECT´S GENERAL INFORMATION    142\n",
      "Unnamed: 2                       142\n",
      "Unnamed: 3                       142\n",
      "Unnamed: 4                       142\n",
      "Unnamed: 5                       142\n",
      "Unnamed: 6                       142\n",
      "Unnamed: 7                       142\n",
      "Unnamed: 8                       142\n",
      "Unnamed: 9                       142\n",
      "TEST INFORMATION                 142\n",
      "Unnamed: 11                      142\n",
      "Unnamed: 12                      142\n",
      "Unnamed: 13                      142\n",
      "Unnamed: 14                      142\n",
      "Unnamed: 15                      142\n",
      "Unnamed: 16                      142\n",
      "Unnamed: 17                      142\n",
      "dtype: int64\n"
     ]
    }
   ],
   "source": [
    "print(df.count(0))"
   ]
  },
  {
   "cell_type": "markdown",
   "id": "fc056d7f",
   "metadata": {},
   "source": [
    "### Splitting the dataset into independent and dependent variables"
   ]
  },
  {
   "cell_type": "code",
   "execution_count": 260,
   "id": "043e1914",
   "metadata": {},
   "outputs": [
    {
     "name": "stdout",
     "output_type": "stream",
     "text": [
      "[[nan 'GROUP' 'GENDER' ... 'EVENT DURATION (ms)' 'SESSION DATA'\n",
      "  'STEADY-STATE TIME (s)']\n",
      " ['1' 'A' 'MALE' ... '250' 'A001SV1_1.EDF' '5']\n",
      " ['1' 'A' 'MALE' ... '250' 'A001SB1_1.EDF' '5']\n",
      " ...\n",
      " ['30' 'A' 'FEM' ... '5000' 'A030SM1_1.EDF' '9']\n",
      " ['30' 'A' 'FEM' ... '250' 'A030SV1_2.EDF' '5']\n",
      " ['* a non-healthy individual was non eligible to take the tests' nan nan\n",
      "  ... nan nan nan]]\n"
     ]
    }
   ],
   "source": [
    "X=df.iloc[:,:-1].values\n",
    "print(X)"
   ]
  },
  {
   "cell_type": "code",
   "execution_count": 261,
   "id": "410d468c",
   "metadata": {},
   "outputs": [
    {
     "name": "stdout",
     "output_type": "stream",
     "text": [
      "['TEST DURATION  (s)' '96' '71' '46' '67' '70' '70' '39' '89' '67' '68'\n",
      " '66' '35' '82' '65' '70' '69' '37' '84' '64' '37' '79' '68' '67' '69'\n",
      " '37' '79' '72' '64' '71' '35' '82' '63' '66' '70' '36' '88' '67' '64'\n",
      " '67' '36' '84' '70' '71' '65' '36' '83' '71' '63' '63' '35' '82' '56'\n",
      " '65' '65' '35' '84' '69' '68' '67' '35' '84' '67' '68' '70' '35' '83'\n",
      " '63' '68' '70' '36' '75' '69' '67' '67' '35' '65' '67' '64' '35' '76'\n",
      " '65' '68' '68' '35' '78' '72' '71' '69' '35' '82' '74' '69' '69' '63'\n",
      " '39' '88' '71' '60' '67' '37' '75' '69' '73' '69' '36' '78' '71' '69'\n",
      " '69' '35' '89' '69' '70' '66' '36' '77' '72' '72' '66' '35' '81' '72'\n",
      " '65' '68' '38' '75' '66' '70' '67' '36' '79' '66' '71' '66' '36' '79'\n",
      " '67' '63' '60' '34' '72' nan]\n"
     ]
    }
   ],
   "source": [
    "Y=df.iloc[:,-1].values\n",
    "print(Y)"
   ]
  },
  {
   "cell_type": "markdown",
   "id": "e38cfa19",
   "metadata": {},
   "source": [
    "### Identify and handle missing data(if any)"
   ]
  },
  {
   "cell_type": "code",
   "execution_count": 262,
   "id": "82266bbc",
   "metadata": {},
   "outputs": [
    {
     "name": "stdout",
     "output_type": "stream",
     "text": [
      "<class 'pandas.core.frame.DataFrame'>\n",
      "RangeIndex: 143 entries, 0 to 142\n",
      "Data columns (total 18 columns):\n",
      " #   Column                         Non-Null Count  Dtype \n",
      "---  ------                         --------------  ----- \n",
      " 0   SUBJECT NUMBER                 142 non-null    object\n",
      " 1   SUBJECT´S GENERAL INFORMATION  142 non-null    object\n",
      " 2   Unnamed: 2                     142 non-null    object\n",
      " 3   Unnamed: 3                     142 non-null    object\n",
      " 4   Unnamed: 4                     142 non-null    object\n",
      " 5   Unnamed: 5                     142 non-null    object\n",
      " 6   Unnamed: 6                     142 non-null    object\n",
      " 7   Unnamed: 7                     142 non-null    object\n",
      " 8   Unnamed: 8                     142 non-null    object\n",
      " 9   Unnamed: 9                     142 non-null    object\n",
      " 10  TEST INFORMATION               142 non-null    object\n",
      " 11  Unnamed: 11                    142 non-null    object\n",
      " 12  Unnamed: 12                    142 non-null    object\n",
      " 13  Unnamed: 13                    142 non-null    object\n",
      " 14  Unnamed: 14                    142 non-null    object\n",
      " 15  Unnamed: 15                    142 non-null    object\n",
      " 16  Unnamed: 16                    142 non-null    object\n",
      " 17  Unnamed: 17                    142 non-null    object\n",
      "dtypes: object(18)\n",
      "memory usage: 20.2+ KB\n"
     ]
    }
   ],
   "source": [
    "df.info()"
   ]
  },
  {
   "cell_type": "code",
   "execution_count": 263,
   "id": "d2b4f7f6",
   "metadata": {},
   "outputs": [
    {
     "name": "stdout",
     "output_type": "stream",
     "text": [
      "SUBJECT NUMBER                   1\n",
      "SUBJECT´S GENERAL INFORMATION    1\n",
      "Unnamed: 2                       1\n",
      "Unnamed: 3                       1\n",
      "Unnamed: 4                       1\n",
      "Unnamed: 5                       1\n",
      "Unnamed: 6                       1\n",
      "Unnamed: 7                       1\n",
      "Unnamed: 8                       1\n",
      "Unnamed: 9                       1\n",
      "TEST INFORMATION                 1\n",
      "Unnamed: 11                      1\n",
      "Unnamed: 12                      1\n",
      "Unnamed: 13                      1\n",
      "Unnamed: 14                      1\n",
      "Unnamed: 15                      1\n",
      "Unnamed: 16                      1\n",
      "Unnamed: 17                      1\n",
      "dtype: int64\n",
      "0       1\n",
      "1       0\n",
      "2       0\n",
      "3       0\n",
      "4       0\n",
      "       ..\n",
      "138     0\n",
      "139     0\n",
      "140     0\n",
      "141     0\n",
      "142    17\n",
      "Length: 143, dtype: int64\n"
     ]
    }
   ],
   "source": [
    "print(df.isna().sum())\n",
    "print(df.isna().sum(axis=1))"
   ]
  },
  {
   "cell_type": "code",
   "execution_count": 264,
   "id": "7a3e74f1",
   "metadata": {},
   "outputs": [
    {
     "name": "stdout",
     "output_type": "stream",
     "text": [
      "    SUBJECT NUMBER SUBJECT´S GENERAL INFORMATION Unnamed: 2 Unnamed: 3  \\\n",
      "1                1                             A       MALE         48   \n",
      "2                1                             A       MALE         48   \n",
      "3                1                             A       MALE         50   \n",
      "4                2                             A       MALE         22   \n",
      "5                2                             A       MALE         22   \n",
      "..             ...                           ...        ...        ...   \n",
      "137             30                             A        FEM         22   \n",
      "138             30                             A        FEM         22   \n",
      "139             30                             A        FEM         22   \n",
      "140             30                             A        FEM         22   \n",
      "141             30                             A        FEM         22   \n",
      "\n",
      "    Unnamed: 4 Unnamed: 5 Unnamed: 6 Unnamed: 7 Unnamed: 8 Unnamed: 9  \\\n",
      "1           NO        YES        YES         NO        YES        YES   \n",
      "2           NO        YES        YES         NO        YES        YES   \n",
      "3           NO        YES        YES         NO        YES        YES   \n",
      "4          YES        YES         NO         NO         NO         NO   \n",
      "5          YES        YES         NO         NO         NO         NO   \n",
      "..         ...        ...        ...        ...        ...        ...   \n",
      "137        YES        YES         NO        YES         NO         NO   \n",
      "138        YES        YES         NO        YES         NO         NO   \n",
      "139        YES        YES         NO        YES         NO         NO   \n",
      "140        YES        YES         NO        YES         NO         NO   \n",
      "141        YES        YES         NO        YES         NO         NO   \n",
      "\n",
      "    TEST INFORMATION   Unnamed: 11   Unnamed: 12 Unnamed: 13 Unnamed: 14  \\\n",
      "1                128        VISUAL  IMAGE SEARCH           5         250   \n",
      "2                128        VISUAL    FIVE BOX 1          20         250   \n",
      "3                128  MOTOR IMAGES    HAND SHAKE           6        5000   \n",
      "4                128        VISUAL    FIVE BOX 1          20         250   \n",
      "5                128        VISUAL    FIVE BOX 2          20         250   \n",
      "..               ...           ...           ...         ...         ...   \n",
      "137              128        VISUAL    FIVE BOX 1          20         250   \n",
      "138              128        VISUAL    FIVE BOX 2          20         250   \n",
      "139              128        VISUAL    FIVE BOX 3          20         250   \n",
      "140              128  MOTOR IMAGES    HAND SHAKE           6        5000   \n",
      "141              128        VISUAL  IMAGE SEARCH           5         250   \n",
      "\n",
      "       Unnamed: 15 Unnamed: 16 Unnamed: 17  \n",
      "1    A001SV1_1.EDF           5          96  \n",
      "2    A001SB1_1.EDF           5          71  \n",
      "3    A001SM1_1.EDF          25          46  \n",
      "4    A002SB1_1.EDF           5          67  \n",
      "5    A002SB2_1.EDF           5          70  \n",
      "..             ...         ...         ...  \n",
      "137  A030SB1_1.EDF           5          67  \n",
      "138  A030SB2_1.EDF           5          63  \n",
      "139  A030SB3_1.EDF           5          60  \n",
      "140  A030SM1_1.EDF           9          34  \n",
      "141  A030SV1_2.EDF           5          72  \n",
      "\n",
      "[141 rows x 18 columns]\n",
      "Empty DataFrame\n",
      "Columns: []\n",
      "Index: [0, 1, 2, 3, 4, 5, 6, 7, 8, 9, 10, 11, 12, 13, 14, 15, 16, 17, 18, 19, 20, 21, 22, 23, 24, 25, 26, 27, 28, 29, 30, 31, 32, 33, 34, 35, 36, 37, 38, 39, 40, 41, 42, 43, 44, 45, 46, 47, 48, 49, 50, 51, 52, 53, 54, 55, 56, 57, 58, 59, 60, 61, 62, 63, 64, 65, 66, 67, 68, 69, 70, 71, 72, 73, 74, 75, 76, 77, 78, 79, 80, 81, 82, 83, 84, 85, 86, 87, 88, 89, 90, 91, 92, 93, 94, 95, 96, 97, 98, 99, ...]\n",
      "\n",
      "[143 rows x 0 columns]\n",
      "                                        SUBJECT NUMBER  \\\n",
      "0                                                  NaN   \n",
      "1                                                    1   \n",
      "2                                                    1   \n",
      "3                                                    1   \n",
      "4                                                    2   \n",
      "..                                                 ...   \n",
      "138                                                 30   \n",
      "139                                                 30   \n",
      "140                                                 30   \n",
      "141                                                 30   \n",
      "142  * a non-healthy individual was non eligible to...   \n",
      "\n",
      "    SUBJECT´S GENERAL INFORMATION Unnamed: 2 Unnamed: 3     Unnamed: 4  \\\n",
      "0                           GROUP     GENDER        AGE  RIGHT HANDED?   \n",
      "1                               A       MALE         48             NO   \n",
      "2                               A       MALE         48             NO   \n",
      "3                               A       MALE         50             NO   \n",
      "4                               A       MALE         22            YES   \n",
      "..                            ...        ...        ...            ...   \n",
      "138                             A        FEM         22            YES   \n",
      "139                             A        FEM         22            YES   \n",
      "140                             A        FEM         22            YES   \n",
      "141                             A        FEM         22            YES   \n",
      "142                           NaN        NaN        NaN            NaN   \n",
      "\n",
      "    Unnamed: 5 Unnamed: 6 Unnamed: 7         Unnamed: 8  \\\n",
      "0     HEALTHY*    GLASSES     SMOKER  MEDICAL TREATMENT   \n",
      "1          YES        YES         NO                YES   \n",
      "2          YES        YES         NO                YES   \n",
      "3          YES        YES         NO                YES   \n",
      "4          YES         NO         NO                 NO   \n",
      "..         ...        ...        ...                ...   \n",
      "138        YES         NO        YES                 NO   \n",
      "139        YES         NO        YES                 NO   \n",
      "140        YES         NO        YES                 NO   \n",
      "141        YES         NO        YES                 NO   \n",
      "142        NaN        NaN        NaN                NaN   \n",
      "\n",
      "                 Unnamed: 9 TEST INFORMATION   Unnamed: 11   Unnamed: 12  \\\n",
      "0    MEDICINE / SUPPLEMENTS    TRANSFER RATE     TEST TYPE     TEST NAME   \n",
      "1                       YES              128        VISUAL  IMAGE SEARCH   \n",
      "2                       YES              128        VISUAL    FIVE BOX 1   \n",
      "3                       YES              128  MOTOR IMAGES    HAND SHAKE   \n",
      "4                        NO              128        VISUAL    FIVE BOX 1   \n",
      "..                      ...              ...           ...           ...   \n",
      "138                      NO              128        VISUAL    FIVE BOX 2   \n",
      "139                      NO              128        VISUAL    FIVE BOX 3   \n",
      "140                      NO              128  MOTOR IMAGES    HAND SHAKE   \n",
      "141                      NO              128        VISUAL  IMAGE SEARCH   \n",
      "142                     NaN              NaN           NaN           NaN   \n",
      "\n",
      "          Unnamed: 13          Unnamed: 14    Unnamed: 15  \\\n",
      "0    NUMBER OF EVENTS  EVENT DURATION (ms)   SESSION DATA   \n",
      "1                   5                  250  A001SV1_1.EDF   \n",
      "2                  20                  250  A001SB1_1.EDF   \n",
      "3                   6                 5000  A001SM1_1.EDF   \n",
      "4                  20                  250  A002SB1_1.EDF   \n",
      "..                ...                  ...            ...   \n",
      "138                20                  250  A030SB2_1.EDF   \n",
      "139                20                  250  A030SB3_1.EDF   \n",
      "140                 6                 5000  A030SM1_1.EDF   \n",
      "141                 5                  250  A030SV1_2.EDF   \n",
      "142               NaN                  NaN            NaN   \n",
      "\n",
      "               Unnamed: 16         Unnamed: 17  \n",
      "0    STEADY-STATE TIME (s)  TEST DURATION  (s)  \n",
      "1                        5                  96  \n",
      "2                        5                  71  \n",
      "3                       25                  46  \n",
      "4                        5                  67  \n",
      "..                     ...                 ...  \n",
      "138                      5                  63  \n",
      "139                      5                  60  \n",
      "140                      9                  34  \n",
      "141                      5                  72  \n",
      "142                    NaN                 NaN  \n",
      "\n",
      "[143 rows x 18 columns]\n"
     ]
    }
   ],
   "source": [
    "print(df.dropna())\n",
    "print(df.dropna(axis=1))\n",
    "print(df.dropna(thresh=1))"
   ]
  },
  {
   "cell_type": "code",
   "execution_count": 265,
   "id": "fe6a396e",
   "metadata": {},
   "outputs": [],
   "source": [
    "updated_df = df.dropna(axis=1)"
   ]
  },
  {
   "cell_type": "code",
   "execution_count": 266,
   "id": "ea659228",
   "metadata": {
    "scrolled": true
   },
   "outputs": [
    {
     "name": "stdout",
     "output_type": "stream",
     "text": [
      "<class 'pandas.core.frame.DataFrame'>\n",
      "RangeIndex: 143 entries, 0 to 142\n",
      "Empty DataFrame"
     ]
    }
   ],
   "source": [
    "updated_df.info()"
   ]
  },
  {
   "cell_type": "code",
   "execution_count": 267,
   "id": "42697d45",
   "metadata": {},
   "outputs": [
    {
     "name": "stdout",
     "output_type": "stream",
     "text": [
      "                                        SUBJECT NUMBER  \\\n",
      "0                                                  NaN   \n",
      "1                                                    1   \n",
      "2                                                    1   \n",
      "3                                                    1   \n",
      "4                                                    2   \n",
      "..                                                 ...   \n",
      "138                                                 30   \n",
      "139                                                 30   \n",
      "140                                                 30   \n",
      "141                                                 30   \n",
      "142  * a non-healthy individual was non eligible to...   \n",
      "\n",
      "    SUBJECT´S GENERAL INFORMATION Unnamed: 2 Unnamed: 3     Unnamed: 4  \\\n",
      "0                           GROUP     GENDER        AGE  RIGHT HANDED?   \n",
      "1                               A       MALE         48             NO   \n",
      "2                               A       MALE         48             NO   \n",
      "3                               A       MALE         50             NO   \n",
      "4                               A       MALE         22            YES   \n",
      "..                            ...        ...        ...            ...   \n",
      "138                             A        FEM         22            YES   \n",
      "139                             A        FEM         22            YES   \n",
      "140                             A        FEM         22            YES   \n",
      "141                             A        FEM         22            YES   \n",
      "142                           NaN        NaN        NaN            NaN   \n",
      "\n",
      "    Unnamed: 5 Unnamed: 6 Unnamed: 7         Unnamed: 8  \\\n",
      "0     HEALTHY*    GLASSES     SMOKER  MEDICAL TREATMENT   \n",
      "1          YES        YES         NO                YES   \n",
      "2          YES        YES         NO                YES   \n",
      "3          YES        YES         NO                YES   \n",
      "4          YES         NO         NO                 NO   \n",
      "..         ...        ...        ...                ...   \n",
      "138        YES         NO        YES                 NO   \n",
      "139        YES         NO        YES                 NO   \n",
      "140        YES         NO        YES                 NO   \n",
      "141        YES         NO        YES                 NO   \n",
      "142        NaN        NaN        NaN                NaN   \n",
      "\n",
      "                 Unnamed: 9 TEST INFORMATION   Unnamed: 11   Unnamed: 12  \\\n",
      "0    MEDICINE / SUPPLEMENTS    TRANSFER RATE     TEST TYPE     TEST NAME   \n",
      "1                       YES              128        VISUAL  IMAGE SEARCH   \n",
      "2                       YES              128        VISUAL    FIVE BOX 1   \n",
      "3                       YES              128  MOTOR IMAGES    HAND SHAKE   \n",
      "4                        NO              128        VISUAL    FIVE BOX 1   \n",
      "..                      ...              ...           ...           ...   \n",
      "138                      NO              128        VISUAL    FIVE BOX 2   \n",
      "139                      NO              128        VISUAL    FIVE BOX 3   \n",
      "140                      NO              128  MOTOR IMAGES    HAND SHAKE   \n",
      "141                      NO              128        VISUAL  IMAGE SEARCH   \n",
      "142                     NaN              NaN           NaN           NaN   \n",
      "\n",
      "          Unnamed: 13          Unnamed: 14    Unnamed: 15  \\\n",
      "0    NUMBER OF EVENTS  EVENT DURATION (ms)   SESSION DATA   \n",
      "1                   5                  250  A001SV1_1.EDF   \n",
      "2                  20                  250  A001SB1_1.EDF   \n",
      "3                   6                 5000  A001SM1_1.EDF   \n",
      "4                  20                  250  A002SB1_1.EDF   \n",
      "..                ...                  ...            ...   \n",
      "138                20                  250  A030SB2_1.EDF   \n",
      "139                20                  250  A030SB3_1.EDF   \n",
      "140                 6                 5000  A030SM1_1.EDF   \n",
      "141                 5                  250  A030SV1_2.EDF   \n",
      "142               NaN                  NaN            NaN   \n",
      "\n",
      "               Unnamed: 16         Unnamed: 17  \n",
      "0    STEADY-STATE TIME (s)  TEST DURATION  (s)  \n",
      "1                        5                  96  \n",
      "2                        5                  71  \n",
      "3                       25                  46  \n",
      "4                        5                  67  \n",
      "..                     ...                 ...  \n",
      "138                      5                  63  \n",
      "139                      5                  60  \n",
      "140                      9                  34  \n",
      "141                      5                  72  \n",
      "142                    NaN                 NaN  \n",
      "\n",
      "[143 rows x 18 columns]\n"
     ]
    }
   ],
   "source": [
    "print(df)"
   ]
  },
  {
   "cell_type": "markdown",
   "id": "e1ffaaaa",
   "metadata": {},
   "source": [
    "### Encode categorical data"
   ]
  },
  {
   "cell_type": "code",
   "execution_count": 268,
   "id": "acd106bf",
   "metadata": {},
   "outputs": [
    {
     "name": "stdout",
     "output_type": "stream",
     "text": [
      "                                                    0      1       2    3   \\\n",
      "0                                                   10  GROUP  GENDER  AGE   \n",
      "1                                                    1      A    MALE   48   \n",
      "2                                                    1      A    MALE   48   \n",
      "3                                                    1      A    MALE   50   \n",
      "4                                                    2      A    MALE   22   \n",
      "..                                                 ...    ...     ...  ...   \n",
      "138                                                 30      A     FEM   22   \n",
      "139                                                 30      A     FEM   22   \n",
      "140                                                 30      A     FEM   22   \n",
      "141                                                 30      A     FEM   22   \n",
      "142  * a non-healthy individual was non eligible to...      A    MALE   21   \n",
      "\n",
      "                4         5        6       7                  8   \\\n",
      "0    RIGHT HANDED?  HEALTHY*  GLASSES  SMOKER  MEDICAL TREATMENT   \n",
      "1               NO       YES      YES      NO                YES   \n",
      "2               NO       YES      YES      NO                YES   \n",
      "3               NO       YES      YES      NO                YES   \n",
      "4              YES       YES       NO      NO                 NO   \n",
      "..             ...       ...      ...     ...                ...   \n",
      "138            YES       YES       NO     YES                 NO   \n",
      "139            YES       YES       NO     YES                 NO   \n",
      "140            YES       YES       NO     YES                 NO   \n",
      "141            YES       YES       NO     YES                 NO   \n",
      "142            YES       YES       NO      NO                 NO   \n",
      "\n",
      "                         9              10            11            12  \\\n",
      "0    MEDICINE / SUPPLEMENTS  TRANSFER RATE     TEST TYPE     TEST NAME   \n",
      "1                       YES            128        VISUAL  IMAGE SEARCH   \n",
      "2                       YES            128        VISUAL    FIVE BOX 1   \n",
      "3                       YES            128  MOTOR IMAGES    HAND SHAKE   \n",
      "4                        NO            128        VISUAL    FIVE BOX 1   \n",
      "..                      ...            ...           ...           ...   \n",
      "138                      NO            128        VISUAL    FIVE BOX 2   \n",
      "139                      NO            128        VISUAL    FIVE BOX 3   \n",
      "140                      NO            128  MOTOR IMAGES    HAND SHAKE   \n",
      "141                      NO            128        VISUAL  IMAGE SEARCH   \n",
      "142                      NO            128        VISUAL    FIVE BOX 1   \n",
      "\n",
      "                   13                   14             15  \\\n",
      "0    NUMBER OF EVENTS  EVENT DURATION (ms)   SESSION DATA   \n",
      "1                   5                  250  A001SV1_1.EDF   \n",
      "2                  20                  250  A001SB1_1.EDF   \n",
      "3                   6                 5000  A001SM1_1.EDF   \n",
      "4                  20                  250  A002SB1_1.EDF   \n",
      "..                ...                  ...            ...   \n",
      "138                20                  250  A030SB2_1.EDF   \n",
      "139                20                  250  A030SB3_1.EDF   \n",
      "140                 6                 5000  A030SM1_1.EDF   \n",
      "141                 5                  250  A030SV1_2.EDF   \n",
      "142                20                  250  A001SB1_1.EDF   \n",
      "\n",
      "                        16                  17  \n",
      "0    STEADY-STATE TIME (s)  TEST DURATION  (s)  \n",
      "1                        5                  96  \n",
      "2                        5                  71  \n",
      "3                       25                  46  \n",
      "4                        5                  67  \n",
      "..                     ...                 ...  \n",
      "138                      5                  63  \n",
      "139                      5                  60  \n",
      "140                      9                  34  \n",
      "141                      5                  72  \n",
      "142                      5                  67  \n",
      "\n",
      "[143 rows x 18 columns]\n",
      "                                                    0   1   2   3   4   5   \\\n",
      "0                                                   10   1   1  14   1   0   \n",
      "1                                                    1   0   2  12   0   1   \n",
      "2                                                    1   0   2  12   0   1   \n",
      "3                                                    1   0   2  13   0   1   \n",
      "4                                                    2   0   2   4   2   1   \n",
      "..                                                 ...  ..  ..  ..  ..  ..   \n",
      "138                                                 30   0   0   4   2   1   \n",
      "139                                                 30   0   0   4   2   1   \n",
      "140                                                 30   0   0   4   2   1   \n",
      "141                                                 30   0   0   4   2   1   \n",
      "142  * a non-healthy individual was non eligible to...   0   2   3   2   1   \n",
      "\n",
      "     6   7   8   9              10  11  12                13  \\\n",
      "0     0   1   0   0  TRANSFER RATE   1   5  NUMBER OF EVENTS   \n",
      "1     2   0   2   2            128   2   4                 5   \n",
      "2     2   0   2   2            128   2   0                20   \n",
      "3     2   0   2   2            128   0   3                 6   \n",
      "4     1   0   1   1            128   2   0                20   \n",
      "..   ..  ..  ..  ..            ...  ..  ..               ...   \n",
      "138   1   2   1   1            128   2   1                20   \n",
      "139   1   2   1   1            128   2   2                20   \n",
      "140   1   2   1   1            128   0   3                 6   \n",
      "141   1   2   1   1            128   2   4                 5   \n",
      "142   1   0   1   1            128   2   0                20   \n",
      "\n",
      "                      14             15                     16  \\\n",
      "0    EVENT DURATION (ms)   SESSION DATA  STEADY-STATE TIME (s)   \n",
      "1                    250  A001SV1_1.EDF                      5   \n",
      "2                    250  A001SB1_1.EDF                      5   \n",
      "3                   5000  A001SM1_1.EDF                     25   \n",
      "4                    250  A002SB1_1.EDF                      5   \n",
      "..                   ...            ...                    ...   \n",
      "138                  250  A030SB2_1.EDF                      5   \n",
      "139                  250  A030SB3_1.EDF                      5   \n",
      "140                 5000  A030SM1_1.EDF                      9   \n",
      "141                  250  A030SV1_2.EDF                      5   \n",
      "142                  250  A001SB1_1.EDF                      5   \n",
      "\n",
      "                     17  \n",
      "0    TEST DURATION  (s)  \n",
      "1                    96  \n",
      "2                    71  \n",
      "3                    46  \n",
      "4                    67  \n",
      "..                  ...  \n",
      "138                  63  \n",
      "139                  60  \n",
      "140                  34  \n",
      "141                  72  \n",
      "142                  67  \n",
      "\n",
      "[143 rows x 18 columns]\n"
     ]
    }
   ],
   "source": [
    "data=pd.DataFrame(SimpleImputer(strategy=\"most_frequent\").fit_transform(df))\n",
    "print(data)\n",
    "from sklearn.preprocessing import LabelEncoder\n",
    "columns=[1,2,3,4,5,6,7,8,9,11,12]\n",
    "for i in columns:\n",
    "    l=LabelEncoder()\n",
    "    data[i]=l.fit_transform(data[i])\n",
    "print(data)"
   ]
  },
  {
   "cell_type": "markdown",
   "id": "3ac3ff89",
   "metadata": {},
   "source": [
    "###  Using Simple Imputer and Label Encoding"
   ]
  },
  {
   "cell_type": "code",
   "execution_count": 280,
   "id": "4a9718df",
   "metadata": {},
   "outputs": [
    {
     "name": "stdout",
     "output_type": "stream",
     "text": [
      "     0   1   2   3   4   5   6   7   8   9   10  11  12  13  14   15  16  17\n",
      "0     2   1   1  14   1   0   0   1   0   0   1   1   5   3   2  141   3  33\n",
      "1     1   0   2  12   0   1   2   0   2   2   0   2   4   1   0    2   1  32\n",
      "2     1   0   2  12   0   1   2   0   2   2   0   2   0   0   0    0   1  17\n",
      "3     1   0   2  13   0   1   2   0   2   2   0   0   3   2   1    1   0   6\n",
      "4    12   0   2   4   2   1   1   0   1   1   0   2   0   0   0    3   1  13\n",
      "..   ..  ..  ..  ..  ..  ..  ..  ..  ..  ..  ..  ..  ..  ..  ..  ...  ..  ..\n",
      "138  24   0   0   4   2   1   1   2   1   1   0   2   1   0   0  137   1   9\n",
      "139  24   0   0   4   2   1   1   2   1   1   0   2   2   0   0  138   1   8\n",
      "140  24   0   0   4   2   1   1   2   1   1   0   0   3   2   1  139   2   0\n",
      "141  24   0   0   4   2   1   1   2   1   1   0   2   4   1   0  140   1  18\n",
      "142   0   0   2   3   2   1   1   0   1   1   0   2   0   0   0    0   1  13\n",
      "\n",
      "[143 rows x 18 columns]\n"
     ]
    }
   ],
   "source": [
    "from sklearn.impute import SimpleImputer\n",
    "df_imp=pd.DataFrame(SimpleImputer(strategy=\"most_frequent\").fit_transform(df))\n",
    "from sklearn.preprocessing import LabelEncoder\n",
    "for i in range(0,18):\n",
    "    df_imp[i]=LabelEncoder().fit_transform(df_imp[i])\n",
    "print(df_imp)"
   ]
  },
  {
   "cell_type": "markdown",
   "id": "89b654c9",
   "metadata": {},
   "source": []
  },
  {
   "cell_type": "markdown",
   "id": "4373dd2b",
   "metadata": {},
   "source": [
    "# Classification Models"
   ]
  },
  {
   "cell_type": "code",
   "execution_count": 281,
   "id": "a0969f20",
   "metadata": {},
   "outputs": [
    {
     "name": "stdout",
     "output_type": "stream",
     "text": [
      "(100, 17) (43, 17)\n"
     ]
    }
   ],
   "source": [
    "X=df_imp.drop(columns=[0])\n",
    "Y=df_imp[0]\n",
    "xtrain,xtest,ytrain,ytest=train_test_split(X,Y,test_size=0.3)\n",
    "print(xtrain.shape,xtest.shape)"
   ]
  },
  {
   "cell_type": "code",
   "execution_count": 282,
   "id": "95e677db",
   "metadata": {},
   "outputs": [
    {
     "name": "stdout",
     "output_type": "stream",
     "text": [
      "(100, 17) (43, 17)\n"
     ]
    }
   ],
   "source": [
    "from sklearn.model_selection import train_test_split\n",
    "xtrain,xtest,ytrain,ytest=train_test_split(X,Y,test_size=0.3)\n",
    "print(xtrain.shape,xtest.shape)"
   ]
  },
  {
   "cell_type": "markdown",
   "id": "e8333cf1",
   "metadata": {},
   "source": [
    "### Logistic Regression"
   ]
  },
  {
   "cell_type": "code",
   "execution_count": 284,
   "id": "0d644579",
   "metadata": {},
   "outputs": [
    {
     "name": "stdout",
     "output_type": "stream",
     "text": [
      "training accuracy is 0.87\n",
      "testing accurrracy is 0.3023255813953488\n"
     ]
    },
    {
     "name": "stderr",
     "output_type": "stream",
     "text": [
      "C:\\Users\\Aayush Deep\\anaconda3\\lib\\site-packages\\sklearn\\linear_model\\_logistic.py:814: ConvergenceWarning: lbfgs failed to converge (status=1):\n",
      "STOP: TOTAL NO. of ITERATIONS REACHED LIMIT.\n",
      "\n",
      "Increase the number of iterations (max_iter) or scale the data as shown in:\n",
      "    https://scikit-learn.org/stable/modules/preprocessing.html\n",
      "Please also refer to the documentation for alternative solver options:\n",
      "    https://scikit-learn.org/stable/modules/linear_model.html#logistic-regression\n",
      "  n_iter_i = _check_optimize_result(\n"
     ]
    }
   ],
   "source": [
    "model = LogisticRegression()\n",
    "model.fit(xtrain,ytrain)\n",
    "pred_train=model.predict(xtrain)\n",
    "pred_test=model.predict(xtest)\n",
    "print(\"training accuracy is\",accuracy_score(pred_train,ytrain))\n",
    "print(\"testing accurrracy is\",accuracy_score(pred_test,ytest))"
   ]
  },
  {
   "cell_type": "markdown",
   "id": "2be1c33f",
   "metadata": {},
   "source": [
    "### Decision Tree Classifier"
   ]
  },
  {
   "cell_type": "code",
   "execution_count": 290,
   "id": "1aef0c10",
   "metadata": {},
   "outputs": [
    {
     "name": "stdout",
     "output_type": "stream",
     "text": [
      "training accuracy is  0.19\n",
      "testing accuracy is  0.046511627906976744\n"
     ]
    }
   ],
   "source": [
    "model_dt=DecisionTreeClassifier(criterion=\"entropy\", max_depth=2)\n",
    "model_dt.fit(xtrain,ytrain)\n",
    "pred_train=model_dt.predict(xtrain)\n",
    "pred_test=model_dt.predict(xtest)\n",
    "print(\"training accuracy is \",accuracy_score(ytrain,pred_train))\n",
    "print(\"testing accuracy is \",accuracy_score(ytest,pred_test))"
   ]
  },
  {
   "cell_type": "code",
   "execution_count": 291,
   "id": "3abe4c89",
   "metadata": {
    "scrolled": true
   },
   "outputs": [
    {
     "data": {
      "text/plain": [
       "[Text(0.5, 0.8333333333333334, 'X[1] <= 1.5\\nentropy = 4.807\\nsamples = 100\\nvalue = [3, 5, 3, 4, 5, 3, 4, 3, 4, 2, 2, 4, 1, 4\\n4, 4, 5, 4, 4, 1, 2, 5, 3, 3, 4, 1, 2, 4\\n4, 3]'),\n",
       " Text(0.25, 0.5, 'X[5] <= 1.5\\nentropy = 3.5\\nsamples = 42\\nvalue = [0, 5, 0, 4, 0, 0, 4, 3, 0, 0, 2, 0, 0, 0\\n4, 0, 5, 0, 0, 0, 0, 0, 0, 3, 0, 1, 0, 4\\n4, 3]'),\n",
       " Text(0.125, 0.16666666666666666, 'entropy = 2.565\\nsamples = 25\\nvalue = [0, 5, 0, 4, 0, 0, 4, 0, 0, 0, 0, 0, 0, 0\\n0, 0, 5, 0, 0, 0, 0, 0, 0, 3, 0, 0, 0, 4\\n0, 0]'),\n",
       " Text(0.375, 0.16666666666666666, 'entropy = 2.469\\nsamples = 17\\nvalue = [0, 0, 0, 0, 0, 0, 0, 3, 0, 0, 2, 0, 0, 0\\n4, 0, 0, 0, 0, 0, 0, 0, 0, 0, 0, 1, 0, 0\\n4, 3]'),\n",
       " Text(0.75, 0.5, 'X[2] <= 4.5\\nentropy = 4.061\\nsamples = 58\\nvalue = [3, 0, 3, 0, 5, 3, 0, 0, 4, 2, 0, 4, 1, 4\\n0, 4, 0, 4, 4, 1, 2, 5, 3, 0, 4, 0, 2, 0\\n0, 0]'),\n",
       " Text(0.625, 0.16666666666666666, 'entropy = 2.936\\nsamples = 27\\nvalue = [0, 0, 3, 0, 0, 0, 0, 0, 0, 0, 0, 4, 0, 4\\n0, 4, 0, 0, 0, 0, 2, 5, 3, 0, 0, 0, 2, 0\\n0, 0]'),\n",
       " Text(0.875, 0.16666666666666666, 'entropy = 3.176\\nsamples = 31\\nvalue = [3, 0, 0, 0, 5, 3, 0, 0, 4, 2, 0, 0, 1, 0\\n0, 0, 0, 4, 4, 1, 0, 0, 0, 0, 4, 0, 0, 0\\n0, 0]')]"
      ]
     },
     "execution_count": 291,
     "metadata": {},
     "output_type": "execute_result"
    },
    {
     "data": {
      "image/png": "[encoded data removed]",
      "text/plain": [
       "<Figure size 432x288 with 1 Axes>"
      ]
     },
     "metadata": {
      "needs_background": "light"
     },
     "output_type": "display_data"
    }
   ],
   "source": [
    "from sklearn.tree import plot_tree\n",
    "plot_tree(model_dt)"
   ]
  },
  {
   "cell_type": "markdown",
   "id": "df95955c",
   "metadata": {},
   "source": [
    "### Perceptron"
   ]
  },
  {
   "cell_type": "code",
   "execution_count": 287,
   "id": "ca3e24f8",
   "metadata": {},
   "outputs": [
    {
     "name": "stdout",
     "output_type": "stream",
     "text": [
      "training accuracy is  0.07\n",
      "testing accuracy is  0.023255813953488372\n"
     ]
    }
   ],
   "source": [
    "model = Perceptron()\n",
    "model.fit(xtrain,ytrain)\n",
    "from sklearn.metrics import accuracy_score\n",
    "print(\"training accuracy is \", accuracy_score(model.predict(xtrain),ytrain))\n",
    "print(\"testing accuracy is \", accuracy_score(model.predict(xtest),ytest))"
   ]
  },
  {
   "cell_type": "code",
   "execution_count": null,
   "id": "de9ce04c",
   "metadata": {},
   "outputs": [],
   "source": []
  }
 ],
 "metadata": {
  "kernelspec": {
   "display_name": "Python 3 (ipykernel)",
   "language": "python",
   "name": "python3"
  },
  "language_info": {
   "codemirror_mode": {
    "name": "ipython",
    "version": 3
   },
   "file_extension": ".py",
   "mimetype": "text/x-python",
   "name": "python",
   "nbconvert_exporter": "python",
   "pygments_lexer": "ipython3",
   "version": "3.9.12"
  }
 },
 "nbformat": 4,
 "nbformat_minor": 5
}
