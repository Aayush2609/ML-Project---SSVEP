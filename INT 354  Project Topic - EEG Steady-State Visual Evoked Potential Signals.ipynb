{
 "cells": [
  {
   "cell_type": "markdown",
   "id": "dd26c9ae",
   "metadata": {},
   "source": [
    "# Data Preprocessing"
   ]
  },
  {
   "cell_type": "markdown",
   "id": "69cdac1d",
   "metadata": {},
   "source": [
    "### Steps - Acquire dataset, import libraries,  import dataset"
   ]
  },
  {
   "cell_type": "code",
   "execution_count": 93,
   "id": "dd021fb6",
   "metadata": {},
   "outputs": [],
   "source": [
    "import numpy as np\n",
    "import matplotlib.pyplot as plt\n",
    "import pandas as pd\n",
    "df=pd.read_csv('Signal Database.csv')"
   ]
  },
  {
   "cell_type": "code",
   "execution_count": 94,
   "id": "b0949b5d",
   "metadata": {},
   "outputs": [],
   "source": [
    "# print(df)"
   ]
  },
  {
   "cell_type": "code",
   "execution_count": 95,
   "id": "75362582",
   "metadata": {},
   "outputs": [
    {
     "name": "stdout",
     "output_type": "stream",
     "text": [
      "(143, 18)\n",
      "2574\n"
     ]
    }
   ],
   "source": [
    "print(df.shape)\n",
    "print(df.size)"
   ]
  },
  {
   "cell_type": "code",
   "execution_count": 96,
   "id": "338a9ed1",
   "metadata": {},
   "outputs": [
    {
     "name": "stdout",
     "output_type": "stream",
     "text": [
      "SUBJECT NUMBER                   142\n",
      "SUBJECT´S GENERAL INFORMATION    142\n",
      "Unnamed: 2                       142\n",
      "Unnamed: 3                       142\n",
      "Unnamed: 4                       142\n",
      "Unnamed: 5                       142\n",
      "Unnamed: 6                       142\n",
      "Unnamed: 7                       142\n",
      "Unnamed: 8                       142\n",
      "Unnamed: 9                       142\n",
      "TEST INFORMATION                 142\n",
      "Unnamed: 11                      142\n",
      "Unnamed: 12                      142\n",
      "Unnamed: 13                      142\n",
      "Unnamed: 14                      142\n",
      "Unnamed: 15                      142\n",
      "Unnamed: 16                      142\n",
      "Unnamed: 17                      142\n",
      "dtype: int64\n"
     ]
    }
   ],
   "source": [
    "print(df.count(0))"
   ]
  },
  {
   "cell_type": "markdown",
   "id": "d99e7f2a",
   "metadata": {},
   "source": [
    "### Splitting the dataset into independent and dependent variables"
   ]
  },
  {
   "cell_type": "code",
   "execution_count": 97,
   "id": "6ec77108",
   "metadata": {},
   "outputs": [
    {
     "name": "stdout",
     "output_type": "stream",
     "text": [
      "[[nan 'GROUP' 'GENDER' ... 'EVENT DURATION (ms)' 'SESSION DATA'\n",
      "  'STEADY-STATE TIME (s)']\n",
      " ['1' 'A' 'MALE' ... '250' 'A001SV1_1.EDF' '5']\n",
      " ['1' 'A' 'MALE' ... '250' 'A001SB1_1.EDF' '5']\n",
      " ...\n",
      " ['30' 'A' 'FEM' ... '5000' 'A030SM1_1.EDF' '9']\n",
      " ['30' 'A' 'FEM' ... '250' 'A030SV1_2.EDF' '5']\n",
      " ['* a non-healthy individual was non eligible to take the tests' nan nan\n",
      "  ... nan nan nan]]\n"
     ]
    }
   ],
   "source": [
    "X=df.iloc[:,:-1].values\n",
    "print(X)"
   ]
  },
  {
   "cell_type": "code",
   "execution_count": 98,
   "id": "2cd2d45d",
   "metadata": {},
   "outputs": [
    {
     "name": "stdout",
     "output_type": "stream",
     "text": [
      "['TEST DURATION  (s)' '96' '71' '46' '67' '70' '70' '39' '89' '67' '68'\n",
      " '66' '35' '82' '65' '70' '69' '37' '84' '64' '37' '79' '68' '67' '69'\n",
      " '37' '79' '72' '64' '71' '35' '82' '63' '66' '70' '36' '88' '67' '64'\n",
      " '67' '36' '84' '70' '71' '65' '36' '83' '71' '63' '63' '35' '82' '56'\n",
      " '65' '65' '35' '84' '69' '68' '67' '35' '84' '67' '68' '70' '35' '83'\n",
      " '63' '68' '70' '36' '75' '69' '67' '67' '35' '65' '67' '64' '35' '76'\n",
      " '65' '68' '68' '35' '78' '72' '71' '69' '35' '82' '74' '69' '69' '63'\n",
      " '39' '88' '71' '60' '67' '37' '75' '69' '73' '69' '36' '78' '71' '69'\n",
      " '69' '35' '89' '69' '70' '66' '36' '77' '72' '72' '66' '35' '81' '72'\n",
      " '65' '68' '38' '75' '66' '70' '67' '36' '79' '66' '71' '66' '36' '79'\n",
      " '67' '63' '60' '34' '72' nan]\n"
     ]
    }
   ],
   "source": [
    "Y=df.iloc[:,-1].values\n",
    "print(Y)"
   ]
  },
  {
   "cell_type": "markdown",
   "id": "8c36088c",
   "metadata": {},
   "source": [
    "### Identify and handle missing data(if any)"
   ]
  },
  {
   "cell_type": "code",
   "execution_count": 99,
   "id": "916dc61c",
   "metadata": {},
   "outputs": [
    {
     "name": "stdout",
     "output_type": "stream",
     "text": [
      "<class 'pandas.core.frame.DataFrame'>\n",
      "RangeIndex: 143 entries, 0 to 142\n",
      "Data columns (total 18 columns):\n",
      " #   Column                         Non-Null Count  Dtype \n",
      "---  ------                         --------------  ----- \n",
      " 0   SUBJECT NUMBER                 142 non-null    object\n",
      " 1   SUBJECT´S GENERAL INFORMATION  142 non-null    object\n",
      " 2   Unnamed: 2                     142 non-null    object\n",
      " 3   Unnamed: 3                     142 non-null    object\n",
      " 4   Unnamed: 4                     142 non-null    object\n",
      " 5   Unnamed: 5                     142 non-null    object\n",
      " 6   Unnamed: 6                     142 non-null    object\n",
      " 7   Unnamed: 7                     142 non-null    object\n",
      " 8   Unnamed: 8                     142 non-null    object\n",
      " 9   Unnamed: 9                     142 non-null    object\n",
      " 10  TEST INFORMATION               142 non-null    object\n",
      " 11  Unnamed: 11                    142 non-null    object\n",
      " 12  Unnamed: 12                    142 non-null    object\n",
      " 13  Unnamed: 13                    142 non-null    object\n",
      " 14  Unnamed: 14                    142 non-null    object\n",
      " 15  Unnamed: 15                    142 non-null    object\n",
      " 16  Unnamed: 16                    142 non-null    object\n",
      " 17  Unnamed: 17                    142 non-null    object\n",
      "dtypes: object(18)\n",
      "memory usage: 20.2+ KB\n"
     ]
    }
   ],
   "source": [
    "df.info()"
   ]
  },
  {
   "cell_type": "code",
   "execution_count": 100,
   "id": "9f1505df",
   "metadata": {},
   "outputs": [
    {
     "name": "stdout",
     "output_type": "stream",
     "text": [
      "SUBJECT NUMBER                   1\n",
      "SUBJECT´S GENERAL INFORMATION    1\n",
      "Unnamed: 2                       1\n",
      "Unnamed: 3                       1\n",
      "Unnamed: 4                       1\n",
      "Unnamed: 5                       1\n",
      "Unnamed: 6                       1\n",
      "Unnamed: 7                       1\n",
      "Unnamed: 8                       1\n",
      "Unnamed: 9                       1\n",
      "TEST INFORMATION                 1\n",
      "Unnamed: 11                      1\n",
      "Unnamed: 12                      1\n",
      "Unnamed: 13                      1\n",
      "Unnamed: 14                      1\n",
      "Unnamed: 15                      1\n",
      "Unnamed: 16                      1\n",
      "Unnamed: 17                      1\n",
      "dtype: int64\n",
      "0       1\n",
      "1       0\n",
      "2       0\n",
      "3       0\n",
      "4       0\n",
      "       ..\n",
      "138     0\n",
      "139     0\n",
      "140     0\n",
      "141     0\n",
      "142    17\n",
      "Length: 143, dtype: int64\n"
     ]
    }
   ],
   "source": [
    "print(df.isna().sum())\n",
    "print(df.isna().sum(axis=1))"
   ]
  },
  {
   "cell_type": "code",
   "execution_count": 101,
   "id": "5e4b5536",
   "metadata": {},
   "outputs": [
    {
     "name": "stdout",
     "output_type": "stream",
     "text": [
      "    SUBJECT NUMBER SUBJECT´S GENERAL INFORMATION Unnamed: 2 Unnamed: 3  \\\n",
      "1                1                             A       MALE         48   \n",
      "2                1                             A       MALE         48   \n",
      "3                1                             A       MALE         50   \n",
      "4                2                             A       MALE         22   \n",
      "5                2                             A       MALE         22   \n",
      "..             ...                           ...        ...        ...   \n",
      "137             30                             A        FEM         22   \n",
      "138             30                             A        FEM         22   \n",
      "139             30                             A        FEM         22   \n",
      "140             30                             A        FEM         22   \n",
      "141             30                             A        FEM         22   \n",
      "\n",
      "    Unnamed: 4 Unnamed: 5 Unnamed: 6 Unnamed: 7 Unnamed: 8 Unnamed: 9  \\\n",
      "1           NO        YES        YES         NO        YES        YES   \n",
      "2           NO        YES        YES         NO        YES        YES   \n",
      "3           NO        YES        YES         NO        YES        YES   \n",
      "4          YES        YES         NO         NO         NO         NO   \n",
      "5          YES        YES         NO         NO         NO         NO   \n",
      "..         ...        ...        ...        ...        ...        ...   \n",
      "137        YES        YES         NO        YES         NO         NO   \n",
      "138        YES        YES         NO        YES         NO         NO   \n",
      "139        YES        YES         NO        YES         NO         NO   \n",
      "140        YES        YES         NO        YES         NO         NO   \n",
      "141        YES        YES         NO        YES         NO         NO   \n",
      "\n",
      "    TEST INFORMATION   Unnamed: 11   Unnamed: 12 Unnamed: 13 Unnamed: 14  \\\n",
      "1                128        VISUAL  IMAGE SEARCH           5         250   \n",
      "2                128        VISUAL    FIVE BOX 1          20         250   \n",
      "3                128  MOTOR IMAGES    HAND SHAKE           6        5000   \n",
      "4                128        VISUAL    FIVE BOX 1          20         250   \n",
      "5                128        VISUAL    FIVE BOX 2          20         250   \n",
      "..               ...           ...           ...         ...         ...   \n",
      "137              128        VISUAL    FIVE BOX 1          20         250   \n",
      "138              128        VISUAL    FIVE BOX 2          20         250   \n",
      "139              128        VISUAL    FIVE BOX 3          20         250   \n",
      "140              128  MOTOR IMAGES    HAND SHAKE           6        5000   \n",
      "141              128        VISUAL  IMAGE SEARCH           5         250   \n",
      "\n",
      "       Unnamed: 15 Unnamed: 16 Unnamed: 17  \n",
      "1    A001SV1_1.EDF           5          96  \n",
      "2    A001SB1_1.EDF           5          71  \n",
      "3    A001SM1_1.EDF          25          46  \n",
      "4    A002SB1_1.EDF           5          67  \n",
      "5    A002SB2_1.EDF           5          70  \n",
      "..             ...         ...         ...  \n",
      "137  A030SB1_1.EDF           5          67  \n",
      "138  A030SB2_1.EDF           5          63  \n",
      "139  A030SB3_1.EDF           5          60  \n",
      "140  A030SM1_1.EDF           9          34  \n",
      "141  A030SV1_2.EDF           5          72  \n",
      "\n",
      "[141 rows x 18 columns]\n",
      "Empty DataFrame\n",
      "Columns: []\n",
      "Index: [0, 1, 2, 3, 4, 5, 6, 7, 8, 9, 10, 11, 12, 13, 14, 15, 16, 17, 18, 19, 20, 21, 22, 23, 24, 25, 26, 27, 28, 29, 30, 31, 32, 33, 34, 35, 36, 37, 38, 39, 40, 41, 42, 43, 44, 45, 46, 47, 48, 49, 50, 51, 52, 53, 54, 55, 56, 57, 58, 59, 60, 61, 62, 63, 64, 65, 66, 67, 68, 69, 70, 71, 72, 73, 74, 75, 76, 77, 78, 79, 80, 81, 82, 83, 84, 85, 86, 87, 88, 89, 90, 91, 92, 93, 94, 95, 96, 97, 98, 99, ...]\n",
      "\n",
      "[143 rows x 0 columns]\n",
      "                                        SUBJECT NUMBER  \\\n",
      "0                                                  NaN   \n",
      "1                                                    1   \n",
      "2                                                    1   \n",
      "3                                                    1   \n",
      "4                                                    2   \n",
      "..                                                 ...   \n",
      "138                                                 30   \n",
      "139                                                 30   \n",
      "140                                                 30   \n",
      "141                                                 30   \n",
      "142  * a non-healthy individual was non eligible to...   \n",
      "\n",
      "    SUBJECT´S GENERAL INFORMATION Unnamed: 2 Unnamed: 3     Unnamed: 4  \\\n",
      "0                           GROUP     GENDER        AGE  RIGHT HANDED?   \n",
      "1                               A       MALE         48             NO   \n",
      "2                               A       MALE         48             NO   \n",
      "3                               A       MALE         50             NO   \n",
      "4                               A       MALE         22            YES   \n",
      "..                            ...        ...        ...            ...   \n",
      "138                             A        FEM         22            YES   \n",
      "139                             A        FEM         22            YES   \n",
      "140                             A        FEM         22            YES   \n",
      "141                             A        FEM         22            YES   \n",
      "142                           NaN        NaN        NaN            NaN   \n",
      "\n",
      "    Unnamed: 5 Unnamed: 6 Unnamed: 7         Unnamed: 8  \\\n",
      "0     HEALTHY*    GLASSES     SMOKER  MEDICAL TREATMENT   \n",
      "1          YES        YES         NO                YES   \n",
      "2          YES        YES         NO                YES   \n",
      "3          YES        YES         NO                YES   \n",
      "4          YES         NO         NO                 NO   \n",
      "..         ...        ...        ...                ...   \n",
      "138        YES         NO        YES                 NO   \n",
      "139        YES         NO        YES                 NO   \n",
      "140        YES         NO        YES                 NO   \n",
      "141        YES         NO        YES                 NO   \n",
      "142        NaN        NaN        NaN                NaN   \n",
      "\n",
      "                 Unnamed: 9 TEST INFORMATION   Unnamed: 11   Unnamed: 12  \\\n",
      "0    MEDICINE / SUPPLEMENTS    TRANSFER RATE     TEST TYPE     TEST NAME   \n",
      "1                       YES              128        VISUAL  IMAGE SEARCH   \n",
      "2                       YES              128        VISUAL    FIVE BOX 1   \n",
      "3                       YES              128  MOTOR IMAGES    HAND SHAKE   \n",
      "4                        NO              128        VISUAL    FIVE BOX 1   \n",
      "..                      ...              ...           ...           ...   \n",
      "138                      NO              128        VISUAL    FIVE BOX 2   \n",
      "139                      NO              128        VISUAL    FIVE BOX 3   \n",
      "140                      NO              128  MOTOR IMAGES    HAND SHAKE   \n",
      "141                      NO              128        VISUAL  IMAGE SEARCH   \n",
      "142                     NaN              NaN           NaN           NaN   \n",
      "\n",
      "          Unnamed: 13          Unnamed: 14    Unnamed: 15  \\\n",
      "0    NUMBER OF EVENTS  EVENT DURATION (ms)   SESSION DATA   \n",
      "1                   5                  250  A001SV1_1.EDF   \n",
      "2                  20                  250  A001SB1_1.EDF   \n",
      "3                   6                 5000  A001SM1_1.EDF   \n",
      "4                  20                  250  A002SB1_1.EDF   \n",
      "..                ...                  ...            ...   \n",
      "138                20                  250  A030SB2_1.EDF   \n",
      "139                20                  250  A030SB3_1.EDF   \n",
      "140                 6                 5000  A030SM1_1.EDF   \n",
      "141                 5                  250  A030SV1_2.EDF   \n",
      "142               NaN                  NaN            NaN   \n",
      "\n",
      "               Unnamed: 16         Unnamed: 17  \n",
      "0    STEADY-STATE TIME (s)  TEST DURATION  (s)  \n",
      "1                        5                  96  \n",
      "2                        5                  71  \n",
      "3                       25                  46  \n",
      "4                        5                  67  \n",
      "..                     ...                 ...  \n",
      "138                      5                  63  \n",
      "139                      5                  60  \n",
      "140                      9                  34  \n",
      "141                      5                  72  \n",
      "142                    NaN                 NaN  \n",
      "\n",
      "[143 rows x 18 columns]\n"
     ]
    }
   ],
   "source": [
    "print(df.dropna())\n",
    "print(df.dropna(axis=1))\n",
    "print(df.dropna(thresh=1))"
   ]
  },
  {
   "cell_type": "code",
   "execution_count": 102,
   "id": "e5bcf685",
   "metadata": {},
   "outputs": [],
   "source": [
    "updated_df = df.dropna(axis=1)"
   ]
  },
  {
   "cell_type": "code",
   "execution_count": 103,
   "id": "8c6cfec3",
   "metadata": {
    "scrolled": true
   },
   "outputs": [
    {
     "name": "stdout",
     "output_type": "stream",
     "text": [
      "<class 'pandas.core.frame.DataFrame'>\n",
      "RangeIndex: 143 entries, 0 to 142\n",
      "Empty DataFrame"
     ]
    }
   ],
   "source": [
    "updated_df.info()"
   ]
  },
  {
   "cell_type": "code",
   "execution_count": 104,
   "id": "b9ffcc9f",
   "metadata": {},
   "outputs": [
    {
     "name": "stdout",
     "output_type": "stream",
     "text": [
      "                                        SUBJECT NUMBER  \\\n",
      "0                                                  NaN   \n",
      "1                                                    1   \n",
      "2                                                    1   \n",
      "3                                                    1   \n",
      "4                                                    2   \n",
      "..                                                 ...   \n",
      "138                                                 30   \n",
      "139                                                 30   \n",
      "140                                                 30   \n",
      "141                                                 30   \n",
      "142  * a non-healthy individual was non eligible to...   \n",
      "\n",
      "    SUBJECT´S GENERAL INFORMATION Unnamed: 2 Unnamed: 3     Unnamed: 4  \\\n",
      "0                           GROUP     GENDER        AGE  RIGHT HANDED?   \n",
      "1                               A       MALE         48             NO   \n",
      "2                               A       MALE         48             NO   \n",
      "3                               A       MALE         50             NO   \n",
      "4                               A       MALE         22            YES   \n",
      "..                            ...        ...        ...            ...   \n",
      "138                             A        FEM         22            YES   \n",
      "139                             A        FEM         22            YES   \n",
      "140                             A        FEM         22            YES   \n",
      "141                             A        FEM         22            YES   \n",
      "142                           NaN        NaN        NaN            NaN   \n",
      "\n",
      "    Unnamed: 5 Unnamed: 6 Unnamed: 7         Unnamed: 8  \\\n",
      "0     HEALTHY*    GLASSES     SMOKER  MEDICAL TREATMENT   \n",
      "1          YES        YES         NO                YES   \n",
      "2          YES        YES         NO                YES   \n",
      "3          YES        YES         NO                YES   \n",
      "4          YES         NO         NO                 NO   \n",
      "..         ...        ...        ...                ...   \n",
      "138        YES         NO        YES                 NO   \n",
      "139        YES         NO        YES                 NO   \n",
      "140        YES         NO        YES                 NO   \n",
      "141        YES         NO        YES                 NO   \n",
      "142        NaN        NaN        NaN                NaN   \n",
      "\n",
      "                 Unnamed: 9 TEST INFORMATION   Unnamed: 11   Unnamed: 12  \\\n",
      "0    MEDICINE / SUPPLEMENTS    TRANSFER RATE     TEST TYPE     TEST NAME   \n",
      "1                       YES              128        VISUAL  IMAGE SEARCH   \n",
      "2                       YES              128        VISUAL    FIVE BOX 1   \n",
      "3                       YES              128  MOTOR IMAGES    HAND SHAKE   \n",
      "4                        NO              128        VISUAL    FIVE BOX 1   \n",
      "..                      ...              ...           ...           ...   \n",
      "138                      NO              128        VISUAL    FIVE BOX 2   \n",
      "139                      NO              128        VISUAL    FIVE BOX 3   \n",
      "140                      NO              128  MOTOR IMAGES    HAND SHAKE   \n",
      "141                      NO              128        VISUAL  IMAGE SEARCH   \n",
      "142                     NaN              NaN           NaN           NaN   \n",
      "\n",
      "          Unnamed: 13          Unnamed: 14    Unnamed: 15  \\\n",
      "0    NUMBER OF EVENTS  EVENT DURATION (ms)   SESSION DATA   \n",
      "1                   5                  250  A001SV1_1.EDF   \n",
      "2                  20                  250  A001SB1_1.EDF   \n",
      "3                   6                 5000  A001SM1_1.EDF   \n",
      "4                  20                  250  A002SB1_1.EDF   \n",
      "..                ...                  ...            ...   \n",
      "138                20                  250  A030SB2_1.EDF   \n",
      "139                20                  250  A030SB3_1.EDF   \n",
      "140                 6                 5000  A030SM1_1.EDF   \n",
      "141                 5                  250  A030SV1_2.EDF   \n",
      "142               NaN                  NaN            NaN   \n",
      "\n",
      "               Unnamed: 16         Unnamed: 17  \n",
      "0    STEADY-STATE TIME (s)  TEST DURATION  (s)  \n",
      "1                        5                  96  \n",
      "2                        5                  71  \n",
      "3                       25                  46  \n",
      "4                        5                  67  \n",
      "..                     ...                 ...  \n",
      "138                      5                  63  \n",
      "139                      5                  60  \n",
      "140                      9                  34  \n",
      "141                      5                  72  \n",
      "142                    NaN                 NaN  \n",
      "\n",
      "[143 rows x 18 columns]\n"
     ]
    }
   ],
   "source": [
    "print(df)"
   ]
  },
  {
   "cell_type": "markdown",
   "id": "a3c0f96f",
   "metadata": {},
   "source": [
    "### Encode categorical data"
   ]
  },
  {
   "cell_type": "code",
   "execution_count": 105,
   "id": "3ccc802f",
   "metadata": {},
   "outputs": [
    {
     "name": "stdout",
     "output_type": "stream",
     "text": [
      "                                                    0      1       2    3   \\\n",
      "0                                                   10  GROUP  GENDER  AGE   \n",
      "1                                                    1      A    MALE   48   \n",
      "2                                                    1      A    MALE   48   \n",
      "3                                                    1      A    MALE   50   \n",
      "4                                                    2      A    MALE   22   \n",
      "..                                                 ...    ...     ...  ...   \n",
      "138                                                 30      A     FEM   22   \n",
      "139                                                 30      A     FEM   22   \n",
      "140                                                 30      A     FEM   22   \n",
      "141                                                 30      A     FEM   22   \n",
      "142  * a non-healthy individual was non eligible to...      A    MALE   21   \n",
      "\n",
      "                4         5        6       7                  8   \\\n",
      "0    RIGHT HANDED?  HEALTHY*  GLASSES  SMOKER  MEDICAL TREATMENT   \n",
      "1               NO       YES      YES      NO                YES   \n",
      "2               NO       YES      YES      NO                YES   \n",
      "3               NO       YES      YES      NO                YES   \n",
      "4              YES       YES       NO      NO                 NO   \n",
      "..             ...       ...      ...     ...                ...   \n",
      "138            YES       YES       NO     YES                 NO   \n",
      "139            YES       YES       NO     YES                 NO   \n",
      "140            YES       YES       NO     YES                 NO   \n",
      "141            YES       YES       NO     YES                 NO   \n",
      "142            YES       YES       NO      NO                 NO   \n",
      "\n",
      "                         9              10            11            12  \\\n",
      "0    MEDICINE / SUPPLEMENTS  TRANSFER RATE     TEST TYPE     TEST NAME   \n",
      "1                       YES            128        VISUAL  IMAGE SEARCH   \n",
      "2                       YES            128        VISUAL    FIVE BOX 1   \n",
      "3                       YES            128  MOTOR IMAGES    HAND SHAKE   \n",
      "4                        NO            128        VISUAL    FIVE BOX 1   \n",
      "..                      ...            ...           ...           ...   \n",
      "138                      NO            128        VISUAL    FIVE BOX 2   \n",
      "139                      NO            128        VISUAL    FIVE BOX 3   \n",
      "140                      NO            128  MOTOR IMAGES    HAND SHAKE   \n",
      "141                      NO            128        VISUAL  IMAGE SEARCH   \n",
      "142                      NO            128        VISUAL    FIVE BOX 1   \n",
      "\n",
      "                   13                   14             15  \\\n",
      "0    NUMBER OF EVENTS  EVENT DURATION (ms)   SESSION DATA   \n",
      "1                   5                  250  A001SV1_1.EDF   \n",
      "2                  20                  250  A001SB1_1.EDF   \n",
      "3                   6                 5000  A001SM1_1.EDF   \n",
      "4                  20                  250  A002SB1_1.EDF   \n",
      "..                ...                  ...            ...   \n",
      "138                20                  250  A030SB2_1.EDF   \n",
      "139                20                  250  A030SB3_1.EDF   \n",
      "140                 6                 5000  A030SM1_1.EDF   \n",
      "141                 5                  250  A030SV1_2.EDF   \n",
      "142                20                  250  A001SB1_1.EDF   \n",
      "\n",
      "                        16                  17  \n",
      "0    STEADY-STATE TIME (s)  TEST DURATION  (s)  \n",
      "1                        5                  96  \n",
      "2                        5                  71  \n",
      "3                       25                  46  \n",
      "4                        5                  67  \n",
      "..                     ...                 ...  \n",
      "138                      5                  63  \n",
      "139                      5                  60  \n",
      "140                      9                  34  \n",
      "141                      5                  72  \n",
      "142                      5                  67  \n",
      "\n",
      "[143 rows x 18 columns]\n",
      "                                                    0   1   2   3   4   5   \\\n",
      "0                                                   10   1   1  14   1   0   \n",
      "1                                                    1   0   2  12   0   1   \n",
      "2                                                    1   0   2  12   0   1   \n",
      "3                                                    1   0   2  13   0   1   \n",
      "4                                                    2   0   2   4   2   1   \n",
      "..                                                 ...  ..  ..  ..  ..  ..   \n",
      "138                                                 30   0   0   4   2   1   \n",
      "139                                                 30   0   0   4   2   1   \n",
      "140                                                 30   0   0   4   2   1   \n",
      "141                                                 30   0   0   4   2   1   \n",
      "142  * a non-healthy individual was non eligible to...   0   2   3   2   1   \n",
      "\n",
      "     6   7   8   9              10  11  12                13  \\\n",
      "0     0   1   0   0  TRANSFER RATE   1   5  NUMBER OF EVENTS   \n",
      "1     2   0   2   2            128   2   4                 5   \n",
      "2     2   0   2   2            128   2   0                20   \n",
      "3     2   0   2   2            128   0   3                 6   \n",
      "4     1   0   1   1            128   2   0                20   \n",
      "..   ..  ..  ..  ..            ...  ..  ..               ...   \n",
      "138   1   2   1   1            128   2   1                20   \n",
      "139   1   2   1   1            128   2   2                20   \n",
      "140   1   2   1   1            128   0   3                 6   \n",
      "141   1   2   1   1            128   2   4                 5   \n",
      "142   1   0   1   1            128   2   0                20   \n",
      "\n",
      "                      14             15                     16  \\\n",
      "0    EVENT DURATION (ms)   SESSION DATA  STEADY-STATE TIME (s)   \n",
      "1                    250  A001SV1_1.EDF                      5   \n",
      "2                    250  A001SB1_1.EDF                      5   \n",
      "3                   5000  A001SM1_1.EDF                     25   \n",
      "4                    250  A002SB1_1.EDF                      5   \n",
      "..                   ...            ...                    ...   \n",
      "138                  250  A030SB2_1.EDF                      5   \n",
      "139                  250  A030SB3_1.EDF                      5   \n",
      "140                 5000  A030SM1_1.EDF                      9   \n",
      "141                  250  A030SV1_2.EDF                      5   \n",
      "142                  250  A001SB1_1.EDF                      5   \n",
      "\n",
      "                     17  \n",
      "0    TEST DURATION  (s)  \n",
      "1                    96  \n",
      "2                    71  \n",
      "3                    46  \n",
      "4                    67  \n",
      "..                  ...  \n",
      "138                  63  \n",
      "139                  60  \n",
      "140                  34  \n",
      "141                  72  \n",
      "142                  67  \n",
      "\n",
      "[143 rows x 18 columns]\n"
     ]
    }
   ],
   "source": [
    "data=pd.DataFrame(SimpleImputer(strategy=\"most_frequent\").fit_transform(df))\n",
    "print(data)\n",
    "from sklearn.preprocessing import LabelEncoder\n",
    "columns=[1,2,3,4,5,6,7,8,9,11,12]\n",
    "for i in columns:\n",
    "    l=LabelEncoder()\n",
    "    data[i]=l.fit_transform(data[i])\n",
    "print(data)"
   ]
  },
  {
   "cell_type": "markdown",
   "id": "7a19548c",
   "metadata": {},
   "source": [
    "###  Using Simple Imputer and Label Encoding"
   ]
  },
  {
   "cell_type": "code",
   "execution_count": 106,
   "id": "5bce934e",
   "metadata": {},
   "outputs": [
    {
     "name": "stdout",
     "output_type": "stream",
     "text": [
      "     0   1   2   3   4   5   6   7   8   9   10  11  12  13  14   15  16  17\n",
      "0     2   1   1  14   1   0   0   1   0   0   1   1   5   3   2  141   3  33\n",
      "1     1   0   2  12   0   1   2   0   2   2   0   2   4   1   0    2   1  32\n",
      "2     1   0   2  12   0   1   2   0   2   2   0   2   0   0   0    0   1  17\n",
      "3     1   0   2  13   0   1   2   0   2   2   0   0   3   2   1    1   0   6\n",
      "4    12   0   2   4   2   1   1   0   1   1   0   2   0   0   0    3   1  13\n",
      "..   ..  ..  ..  ..  ..  ..  ..  ..  ..  ..  ..  ..  ..  ..  ..  ...  ..  ..\n",
      "138  24   0   0   4   2   1   1   2   1   1   0   2   1   0   0  137   1   9\n",
      "139  24   0   0   4   2   1   1   2   1   1   0   2   2   0   0  138   1   8\n",
      "140  24   0   0   4   2   1   1   2   1   1   0   0   3   2   1  139   2   0\n",
      "141  24   0   0   4   2   1   1   2   1   1   0   2   4   1   0  140   1  18\n",
      "142   0   0   2   3   2   1   1   0   1   1   0   2   0   0   0    0   1  13\n",
      "\n",
      "[143 rows x 18 columns]\n"
     ]
    }
   ],
   "source": [
    "from sklearn.impute import SimpleImputer\n",
    "df_imp=pd.DataFrame(SimpleImputer(strategy=\"most_frequent\").fit_transform(df))\n",
    "from sklearn.preprocessing import LabelEncoder\n",
    "for i in range(0,18):\n",
    "    df_imp[i]=LabelEncoder().fit_transform(df_imp[i])\n",
    "print(df_imp)"
   ]
  },
  {
   "cell_type": "markdown",
   "id": "cd3c9770",
   "metadata": {},
   "source": []
  },
  {
   "cell_type": "markdown",
   "id": "21a80801",
   "metadata": {},
   "source": [
    "# Classification Models"
   ]
  },
  {
   "cell_type": "code",
   "execution_count": 107,
   "id": "432674c7",
   "metadata": {},
   "outputs": [
    {
     "name": "stdout",
     "output_type": "stream",
     "text": [
      "(100, 17) (43, 17)\n"
     ]
    }
   ],
   "source": [
    "from sklearn.model_selection import train_test_split\n",
    "xtrain,xtest,ytrain,ytest=train_test_split(X,Y,test_size=0.3)\n",
    "print(xtrain.shape,xtest.shape)"
   ]
  },
  {
   "cell_type": "code",
   "execution_count": 108,
   "id": "53db619f",
   "metadata": {},
   "outputs": [
    {
     "name": "stdout",
     "output_type": "stream",
     "text": [
      "(100, 17) (43, 17)\n"
     ]
    }
   ],
   "source": [
    "X=df_imp.drop(columns=[0])\n",
    "Y=df_imp[0]\n",
    "xtrain,xtest,ytrain,ytest=train_test_split(X,Y,test_size=0.3)\n",
    "print(xtrain.shape,xtest.shape)"
   ]
  },
  {
   "cell_type": "code",
   "execution_count": 109,
   "id": "c54f5ea4",
   "metadata": {},
   "outputs": [],
   "source": [
    "from sklearn.linear_model import Perceptron, LogisticRegression\n",
    "from sklearn.tree import DecisionTreeClassifier\n",
    "from sklearn.metrics import accuracy_score"
   ]
  },
  {
   "cell_type": "markdown",
   "id": "3d1a931e",
   "metadata": {},
   "source": [
    "### Logistic Regression"
   ]
  },
  {
   "cell_type": "code",
   "execution_count": 110,
   "id": "1ecb136f",
   "metadata": {},
   "outputs": [
    {
     "name": "stdout",
     "output_type": "stream",
     "text": [
      "training accuracy is 0.86\n",
      "testing accurrracy is 0.4883720930232558\n"
     ]
    },
    {
     "name": "stderr",
     "output_type": "stream",
     "text": [
      "C:\\Users\\Aayush Deep\\anaconda3\\lib\\site-packages\\sklearn\\linear_model\\_logistic.py:814: ConvergenceWarning: lbfgs failed to converge (status=1):\n",
      "STOP: TOTAL NO. of ITERATIONS REACHED LIMIT.\n",
      "\n",
      "Increase the number of iterations (max_iter) or scale the data as shown in:\n",
      "    https://scikit-learn.org/stable/modules/preprocessing.html\n",
      "Please also refer to the documentation for alternative solver options:\n",
      "    https://scikit-learn.org/stable/modules/linear_model.html#logistic-regression\n",
      "  n_iter_i = _check_optimize_result(\n"
     ]
    }
   ],
   "source": [
    "model = LogisticRegression()\n",
    "model.fit(xtrain,ytrain)\n",
    "pred_train=model.predict(xtrain)\n",
    "pred_test=model.predict(xtest)\n",
    "print(\"training accuracy is\",accuracy_score(pred_train,ytrain))\n",
    "print(\"testing accurrracy is\",accuracy_score(pred_test,ytest))"
   ]
  },
  {
   "cell_type": "markdown",
   "id": "f994721b",
   "metadata": {},
   "source": [
    "### Decision Tree Classifier"
   ]
  },
  {
   "cell_type": "code",
   "execution_count": 111,
   "id": "8bb8211d",
   "metadata": {},
   "outputs": [
    {
     "name": "stdout",
     "output_type": "stream",
     "text": [
      "training accuracy is  0.19\n",
      "testing accuracy is  0.023255813953488372\n"
     ]
    }
   ],
   "source": [
    "model_dt=DecisionTreeClassifier(criterion=\"entropy\", max_depth=2)\n",
    "model_dt.fit(xtrain,ytrain)\n",
    "pred_train=model_dt.predict(xtrain)\n",
    "pred_test=model_dt.predict(xtest)\n",
    "print(\"training accuracy is \",accuracy_score(ytrain,pred_train))\n",
    "print(\"testing accuracy is \",accuracy_score(ytest,pred_test))"
   ]
  },
  {
   "cell_type": "code",
   "execution_count": 112,
   "id": "8f5f03df",
   "metadata": {
    "scrolled": true
   },
   "outputs": [
    {
     "data": {
      "text/plain": [
       "[Text(0.5, 0.8333333333333334, 'X[14] <= 70.0\\nentropy = 4.847\\nsamples = 100\\nvalue = [1, 2, 4, 5, 4, 4, 2, 2, 2, 4, 4, 4, 3, 1\\n3, 3, 4, 4, 5, 5, 2, 3, 3, 5, 1, 2, 3, 4\\n4, 3, 4]'),\n",
       " Text(0.25, 0.5, 'X[14] <= 30.5\\nentropy = 3.903\\nsamples = 51\\nvalue = [1, 2, 3, 5, 4, 4, 2, 2, 0, 0, 0, 0, 3, 0\\n0, 0, 0, 0, 0, 0, 0, 0, 0, 5, 0, 2, 3, 4\\n4, 3, 4]'),\n",
       " Text(0.125, 0.16666666666666666, 'entropy = 2.872\\nsamples = 24\\nvalue = [1, 2, 0, 0, 0, 0, 0, 0, 0, 0, 0, 0, 3, 0\\n0, 0, 0, 0, 0, 0, 0, 0, 0, 5, 0, 2, 3, 4\\n4, 0, 0]'),\n",
       " Text(0.375, 0.16666666666666666, 'entropy = 2.936\\nsamples = 27\\nvalue = [0, 0, 3, 5, 4, 4, 2, 2, 0, 0, 0, 0, 0, 0\\n0, 0, 0, 0, 0, 0, 0, 0, 0, 0, 0, 0, 0, 0\\n0, 3, 4]'),\n",
       " Text(0.75, 0.5, 'X[14] <= 105.5\\nentropy = 3.855\\nsamples = 49\\nvalue = [0, 0, 1, 0, 0, 0, 0, 0, 2, 4, 4, 4, 0, 1\\n3, 3, 4, 4, 5, 5, 2, 3, 3, 0, 1, 0, 0, 0\\n0, 0, 0]'),\n",
       " Text(0.625, 0.16666666666666666, 'entropy = 2.903\\nsamples = 25\\nvalue = [0, 0, 0, 0, 0, 0, 0, 0, 2, 4, 4, 4, 0, 1\\n3, 3, 4, 0, 0, 0, 0, 0, 0, 0, 0, 0, 0, 0\\n0, 0, 0]'),\n",
       " Text(0.875, 0.16666666666666666, 'entropy = 2.805\\nsamples = 24\\nvalue = [0, 0, 1, 0, 0, 0, 0, 0, 0, 0, 0, 0, 0, 0\\n0, 0, 0, 4, 5, 5, 2, 3, 3, 0, 1, 0, 0, 0\\n0, 0, 0]')]"
      ]
     },
     "execution_count": 112,
     "metadata": {},
     "output_type": "execute_result"
    },
    {
     "data": {
      "image/png": "[encoded data removed]",
      "text/plain": [
       "<Figure size 432x288 with 1 Axes>"
      ]
     },
     "metadata": {
      "needs_background": "light"
     },
     "output_type": "display_data"
    }
   ],
   "source": [
    "from sklearn.tree import plot_tree\n",
    "plot_tree(model_dt)\n"
   ]
  },
  {
   "cell_type": "markdown",
   "id": "9bf7f55a",
   "metadata": {},
   "source": [
    "### Perceptron"
   ]
  },
  {
   "cell_type": "code",
   "execution_count": 167,
   "id": "2885a7f1",
   "metadata": {},
   "outputs": [
    {
     "name": "stdout",
     "output_type": "stream",
     "text": [
      "training accuracy is  0.07\n",
      "testing accuracy is  0.023255813953488372\n"
     ]
    }
   ],
   "source": [
    "model = Perceptron()\n",
    "model.fit(xtrain,ytrain)\n",
    "\n",
    "print(\"training accuracy is \", accuracy_score(model.predict(xtrain),ytrain))\n",
    "print(\"testing accuracy is \", accuracy_score(model.predict(xtest),ytest))"
   ]
  },
  {
   "cell_type": "code",
   "execution_count": null,
   "id": "c94704db",
   "metadata": {},
   "outputs": [],
   "source": [
    "# df"
   ]
  },
  {
   "cell_type": "markdown",
   "id": "9e0dbd86",
   "metadata": {},
   "source": [
    "## Hyperparameter tuning"
   ]
  },
  {
   "cell_type": "markdown",
   "id": "7ff68fb6",
   "metadata": {},
   "source": [
    "### Grid Search (stratified kfold also used)"
   ]
  },
  {
   "cell_type": "code",
   "execution_count": 129,
   "id": "0fa0100e",
   "metadata": {},
   "outputs": [
    {
     "data": {
      "text/plain": [
       "DecisionTreeClassifier()"
      ]
     },
     "execution_count": 129,
     "metadata": {},
     "output_type": "execute_result"
    }
   ],
   "source": [
    "import pandas as pd\n",
    "from sklearn.tree import DecisionTreeClassifier\n",
    "\n",
    "# create a sample DataFrame\n",
    "df = pd.DataFrame({'col1': [1, 2, 3], 'col2': [4, 5, 6], 'target': [0, 1, 0]})\n",
    "\n",
    "# select relevant columns from DataFrame\n",
    "X = df.iloc[:, :-1].values\n",
    "y = df.iloc[:, -1].values\n",
    "\n",
    "# create and fit a decision tree model\n",
    "model = DecisionTreeClassifier()\n",
    "model.fit(X, y)\n"
   ]
  },
  {
   "cell_type": "code",
   "execution_count": 137,
   "id": "9ea4774a",
   "metadata": {},
   "outputs": [
    {
     "name": "stdout",
     "output_type": "stream",
     "text": [
      "Best parameters: {'C': 0.01}\n",
      "Best score: nan\n"
     ]
    },
    {
     "name": "stderr",
     "output_type": "stream",
     "text": [
      "C:\\Users\\Aayush Deep\\anaconda3\\lib\\site-packages\\sklearn\\model_selection\\_split.py:676: UserWarning: The least populated class in y has only 1 members, which is less than n_splits=2.\n",
      "  warnings.warn(\n",
      "C:\\Users\\Aayush Deep\\anaconda3\\lib\\site-packages\\sklearn\\model_selection\\_validation.py:372: FitFailedWarning: \n",
      "5 fits failed out of a total of 10.\n",
      "The score on these train-test partitions for these parameters will be set to nan.\n",
      "If these failures are not expected, you can try to debug them by setting error_score='raise'.\n",
      "\n",
      "Below are more details about the failures:\n",
      "--------------------------------------------------------------------------------\n",
      "5 fits failed with the following error:\n",
      "Traceback (most recent call last):\n",
      "  File \"C:\\Users\\Aayush Deep\\anaconda3\\lib\\site-packages\\sklearn\\model_selection\\_validation.py\", line 680, in _fit_and_score\n",
      "    estimator.fit(X_train, y_train, **fit_params)\n",
      "  File \"C:\\Users\\Aayush Deep\\anaconda3\\lib\\site-packages\\sklearn\\linear_model\\_logistic.py\", line 1554, in fit\n",
      "    raise ValueError(\n",
      "ValueError: This solver needs samples of at least 2 classes in the data, but the data contains only one class: 0\n",
      "\n",
      "  warnings.warn(some_fits_failed_message, FitFailedWarning)\n",
      "C:\\Users\\Aayush Deep\\anaconda3\\lib\\site-packages\\sklearn\\model_selection\\_search.py:969: UserWarning: One or more of the test scores are non-finite: [nan nan nan nan nan]\n",
      "  warnings.warn(\n"
     ]
    }
   ],
   "source": [
    "from sklearn.model_selection import GridSearchCV\n",
    "from sklearn.linear_model import LogisticRegression\n",
    "from sklearn.model_selection import StratifiedKFold\n",
    "\n",
    "param_grid = {'C': [0.01, 0.1, 1, 10, 100]}\n",
    "clf = LogisticRegression()\n",
    "skf = StratifiedKFold(n_splits=2)      \n",
    "\n",
    "# using stratified k-fold cross-validation and the number of splits \n",
    "# specified is greater than the number of members in one or more \n",
    "# classes in your target variable.\n",
    "\n",
    "grid_search = GridSearchCV(clf, param_grid=param_grid, cv=skf)\n",
    "grid_search.fit(X, y)\n",
    "\n",
    "print(\"Best parameters:\", grid_search.best_params_)\n",
    "print(\"Best score:\", grid_search.best_score_)\n"
   ]
  },
  {
   "cell_type": "markdown",
   "id": "68deee27",
   "metadata": {},
   "source": [
    "### Data Analysis"
   ]
  },
  {
   "cell_type": "code",
   "execution_count": 138,
   "id": "fd396b63",
   "metadata": {},
   "outputs": [],
   "source": [
    "import numpy as np\n",
    "import pandas as pd\n",
    "from sklearn import datasets"
   ]
  },
  {
   "cell_type": "code",
   "execution_count": 170,
   "id": "ae2cb0e6",
   "metadata": {},
   "outputs": [],
   "source": [
    "data = df"
   ]
  },
  {
   "cell_type": "code",
   "execution_count": 171,
   "id": "5a449dfd",
   "metadata": {},
   "outputs": [],
   "source": [
    "# df_imp"
   ]
  },
  {
   "cell_type": "code",
   "execution_count": 172,
   "id": "997209d9",
   "metadata": {},
   "outputs": [
    {
     "data": {
      "text/html": [
       "<div>\n",
       "<style scoped>\n",
       "    .dataframe tbody tr th:only-of-type {\n",
       "        vertical-align: middle;\n",
       "    }\n",
       "\n",
       "    .dataframe tbody tr th {\n",
       "        vertical-align: top;\n",
       "    }\n",
       "\n",
       "    .dataframe thead th {\n",
       "        text-align: right;\n",
       "    }\n",
       "</style>\n",
       "<table border=\"1\" class=\"dataframe\">\n",
       "  <thead>\n",
       "    <tr style=\"text-align: right;\">\n",
       "      <th></th>\n",
       "      <th>col1</th>\n",
       "      <th>col2</th>\n",
       "      <th>target</th>\n",
       "    </tr>\n",
       "  </thead>\n",
       "  <tbody>\n",
       "    <tr>\n",
       "      <th>0</th>\n",
       "      <td>1</td>\n",
       "      <td>4</td>\n",
       "      <td>0</td>\n",
       "    </tr>\n",
       "    <tr>\n",
       "      <th>1</th>\n",
       "      <td>2</td>\n",
       "      <td>5</td>\n",
       "      <td>1</td>\n",
       "    </tr>\n",
       "    <tr>\n",
       "      <th>2</th>\n",
       "      <td>3</td>\n",
       "      <td>6</td>\n",
       "      <td>0</td>\n",
       "    </tr>\n",
       "  </tbody>\n",
       "</table>\n",
       "</div>"
      ],
      "text/plain": [
       "   col1  col2  target\n",
       "0     1     4       0\n",
       "1     2     5       1\n",
       "2     3     6       0"
      ]
     },
     "execution_count": 172,
     "metadata": {},
     "output_type": "execute_result"
    }
   ],
   "source": [
    "data.head()"
   ]
  },
  {
   "cell_type": "markdown",
   "id": "58af71f0",
   "metadata": {},
   "source": [
    "## Boxplot for logistic regression"
   ]
  },
  {
   "cell_type": "code",
   "execution_count": 173,
   "id": "9eced6c4",
   "metadata": {},
   "outputs": [
    {
     "data": {
      "image/png": "[encoded data removed]",
      "text/plain": [
       "<Figure size 432x288 with 1 Axes>"
      ]
     },
     "metadata": {
      "needs_background": "light"
     },
     "output_type": "display_data"
    }
   ],
   "source": [
    "import matplotlib.pyplot as plt\n",
    "from sklearn.linear_model import LogisticRegression\n",
    "from sklearn.metrics import accuracy_score\n",
    "\n",
    "# create boxplot\n",
    "plt.boxplot(scores)\n",
    "plt.xticks([1, 2], ['Training', 'Testing'])\n",
    "plt.ylabel('Accuracy')\n",
    "plt.title('Logistic Regression Model Accuracy')\n",
    "plt.show()\n"
   ]
  },
  {
   "cell_type": "markdown",
   "id": "6a567473",
   "metadata": {},
   "source": [
    "## Confusion matrix for logistic regression"
   ]
  },
  {
   "cell_type": "code",
   "execution_count": 194,
   "id": "1beb6844",
   "metadata": {},
   "outputs": [
    {
     "data": {
      "image/png": "[encoded data removed]",
      "text/plain": [
       "<Figure size 432x288 with 2 Axes>"
      ]
     },
     "metadata": {},
     "output_type": "display_data"
    }
   ],
   "source": [
    "import seaborn as sns\n",
    "import matplotlib.pyplot as plt\n",
    "from sklearn.linear_model import LogisticRegression\n",
    "from sklearn.metrics import accuracy_score\n",
    "\n",
    "# create dataframe of accuracy scores\n",
    "data = {'Accuracy': [train_acc, test_acc], 'Dataset': ['Training', 'Testing']}\n",
    "df = pd.DataFrame(data)\n",
    "\n",
    "# create heatmap\n",
    "sns.set(font_scale=1.2)\n",
    "sns.heatmap(df.pivot('Accuracy', 'Dataset', 'Accuracy'), annot=True, cmap='Blues', fmt='.3f')\n",
    "plt.title('Logistic Regression Model Accuracy')\n",
    "plt.show()\n"
   ]
  },
  {
   "cell_type": "code",
   "execution_count": 195,
   "id": "5cd46256",
   "metadata": {},
   "outputs": [
    {
     "data": {
      "text/plain": [
       "<seaborn.axisgrid.PairGrid at 0x16535c30430>"
      ]
     },
     "execution_count": 195,
     "metadata": {},
     "output_type": "execute_result"
    },
    {
     "data": {
      "image/png": "[encoded data removed]",
      "text/plain": [
       "<Figure size 180x180 with 2 Axes>"
      ]
     },
     "metadata": {},
     "output_type": "display_data"
    }
   ],
   "source": [
    "import seaborn as sns\n",
    "sns.pairplot(df)"
   ]
  },
  {
   "cell_type": "raw",
   "id": "4e0ef4aa",
   "metadata": {},
   "source": []
  }
 ],
 "metadata": {
  "kernelspec": {
   "display_name": "Python 3 (ipykernel)",
   "language": "python",
   "name": "python3"
  },
  "language_info": {
   "codemirror_mode": {
    "name": "ipython",
    "version": 3
   },
   "file_extension": ".py",
   "mimetype": "text/x-python",
   "name": "python",
   "nbconvert_exporter": "python",
   "pygments_lexer": "ipython3",
   "version": "3.9.12"
  }
 },
 "nbformat": 4,
 "nbformat_minor": 5
}
